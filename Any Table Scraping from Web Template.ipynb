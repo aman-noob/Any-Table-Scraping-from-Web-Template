{
 "cells": [
  {
   "cell_type": "markdown",
   "id": "4459030a",
   "metadata": {},
   "source": [
    "### Importing Libraries"
   ]
  },
  {
   "cell_type": "code",
   "execution_count": null,
   "id": "5d6abf0f",
   "metadata": {},
   "outputs": [],
   "source": [
    "from bs4 import BeautifulSoup \n",
    "import requests\n",
    "import pandas as pd\n"
   ]
  },
  {
   "cell_type": "markdown",
   "id": "a9b38af2",
   "metadata": {},
   "source": [
    "### Adding URL"
   ]
  },
  {
   "cell_type": "code",
   "execution_count": null,
   "id": "a961117b",
   "metadata": {},
   "outputs": [],
   "source": [
    "url ='INSERT WEBSITE URL HERE'\n",
    "page = requests.get(url)\n",
    "soup = BeautifulSoup(page.text, 'lxml')"
   ]
  },
  {
   "cell_type": "markdown",
   "id": "76f7c1ee",
   "metadata": {},
   "source": [
    "### Creating Table"
   ]
  },
  {
   "cell_type": "code",
   "execution_count": 59,
   "id": "d59bf834",
   "metadata": {},
   "outputs": [],
   "source": [
    "table = soup.find('table', {CHECK FOR CLASS USING INSPECT SOURCE ON PAGE})"
   ]
  },
  {
   "cell_type": "markdown",
   "id": "428ec928",
   "metadata": {},
   "source": [
    "### Creating Headers"
   ]
  },
  {
   "cell_type": "code",
   "execution_count": 60,
   "id": "8c3e9c2d",
   "metadata": {},
   "outputs": [],
   "source": [
    "headers = []\n",
    "\n",
    "for i in table.find_all('th'):\n",
    "    title = i.text.strip()\n",
    "    headers.append(title)"
   ]
  },
  {
   "cell_type": "markdown",
   "id": "9a81729a",
   "metadata": {},
   "source": [
    "### Storing in Table"
   ]
  },
  {
   "cell_type": "code",
   "execution_count": 62,
   "id": "9b94f0f9",
   "metadata": {},
   "outputs": [],
   "source": [
    "df = pd.DataFrame(columns = headers)"
   ]
  },
  {
   "cell_type": "markdown",
   "id": "735540a4",
   "metadata": {},
   "source": [
    "### Iterating Through Rows"
   ]
  },
  {
   "cell_type": "code",
   "execution_count": 64,
   "id": "7a198a54",
   "metadata": {},
   "outputs": [],
   "source": [
    "for row in table.find_all('tr')[1:]:\n",
    "    data = row.find_all('td')\n",
    "    row_data = [td.text.strip() for td in data]\n",
    "    length = len(df)\n",
    "    df.loc[length] = row_data\n",
    "    row_data.append(data)"
   ]
  },
  {
   "cell_type": "markdown",
   "id": "6c2ad204",
   "metadata": {},
   "source": [
    "### Saving the Scraped Data"
   ]
  },
  {
   "cell_type": "code",
   "execution_count": 66,
   "id": "684e64e8",
   "metadata": {},
   "outputs": [],
   "source": [
    "df.to_csv('STOREDATASET.csv')"
   ]
  }
 ],
 "metadata": {
  "kernelspec": {
   "display_name": "Python 3",
   "language": "python",
   "name": "python3"
  },
  "language_info": {
   "codemirror_mode": {
    "name": "ipython",
    "version": 3
   },
   "file_extension": ".py",
   "mimetype": "text/x-python",
   "name": "python",
   "nbconvert_exporter": "python",
   "pygments_lexer": "ipython3",
   "version": "3.8.8"
  }
 },
 "nbformat": 4,
 "nbformat_minor": 5
}
